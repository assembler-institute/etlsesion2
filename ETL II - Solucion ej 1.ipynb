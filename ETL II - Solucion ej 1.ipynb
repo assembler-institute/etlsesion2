{
 "cells": [
  {
   "cell_type": "code",
   "execution_count": 1,
   "id": "182ee111-7b8a-408f-b916-4534ab67dc32",
   "metadata": {},
   "outputs": [
    {
     "name": "stdout",
     "output_type": "stream",
     "text": [
      "Se han obtenido 1782 códigos de aeropuerto\n"
     ]
    }
   ],
   "source": [
    "# Importar librerías\n",
    "import requests\n",
    "\n",
    "# Establecer datos de la solicitud\n",
    "cabeceras = {'oanToken': 'ZF7xNEuLAZ5DKLQAEGVUq6VquGLQdsL7'}\n",
    "api= 'https://api.onairnet.xyz/assembler/etl/ej1'\n",
    "\n",
    "# Realizar la petición\n",
    "payload = requests.post(api, headers=cabeceras)\n",
    "data = payload.json()['response']\n",
    "\n",
    "# Quedarse sólo con los códigos\n",
    "iata_codes = []\n",
    "for code in data:\n",
    "    iata_codes.append(code['iata'])\n",
    "    \n",
    "print('Se han obtenido', len(iata_codes), 'códigos de aeropuerto')"
   ]
  },
  {
   "cell_type": "code",
   "execution_count": 2,
   "id": "b5a0a958-8b2d-4089-9fe1-e58c784f4d83",
   "metadata": {},
   "outputs": [],
   "source": [
    "# Establecemos los datos de la segunda petición\n",
    "cabeceras_apc = {'APC-Auth': 'fd0f43efd3', 'APC-Auth-Secret': '01acfd54d99c4eb'}\n",
    "api_apc = 'https://www.air-port-codes.com/' + 'api/v1/single'\n",
    "\n",
    "# Pedimos los datos para cada aeropuerto\n",
    "result = []\n",
    "for code in iata_codes:\n",
    "    payload = requests.post(api_apc, headers=cabeceras_apc, data = {'iata': code})\n",
    "    data = payload.json()\n",
    "    \n",
    "    result.append({\n",
    "        \"ID\": data['airport']['iata'],\n",
    "        \"name\":data['airport']['name'],\n",
    "        \"latitude\": data['airport']['latitude'],\n",
    "        \"longitude\": data['airport']['longitude'],\n",
    "        \"country\": data['airport']['country']['name'],\n",
    "        \"city\": data['airport']['city'],\n",
    "        \"continent\":data['airport']['continent']['name']\n",
    "    })"
   ]
  },
  {
   "cell_type": "code",
   "execution_count": 3,
   "id": "ded706a2-7d29-443a-a8a0-35b11a4bbdcb",
   "metadata": {},
   "outputs": [
    {
     "data": {
      "text/plain": [
       "1782"
      ]
     },
     "execution_count": 3,
     "metadata": {},
     "output_type": "execute_result"
    }
   ],
   "source": [
    "len(result)"
   ]
  },
  {
   "cell_type": "code",
   "execution_count": 4,
   "id": "9a9ec564-0701-436d-941d-01c800b55807",
   "metadata": {},
   "outputs": [
    {
     "data": {
      "text/plain": [
       "{'ID': 'TIA',\n",
       " 'name': 'Tirana International Airport',\n",
       " 'latitude': '41.416526',\n",
       " 'longitude': '19.712916',\n",
       " 'country': 'Albania',\n",
       " 'city': 'Tirana',\n",
       " 'continent': 'Europe'}"
      ]
     },
     "execution_count": 4,
     "metadata": {},
     "output_type": "execute_result"
    }
   ],
   "source": [
    "result[0]"
   ]
  }
 ],
 "metadata": {
  "kernelspec": {
   "display_name": "Python 3 (ipykernel)",
   "language": "python",
   "name": "python3"
  },
  "language_info": {
   "codemirror_mode": {
    "name": "ipython",
    "version": 3
   },
   "file_extension": ".py",
   "mimetype": "text/x-python",
   "name": "python",
   "nbconvert_exporter": "python",
   "pygments_lexer": "ipython3",
   "version": "3.9.7"
  }
 },
 "nbformat": 4,
 "nbformat_minor": 5
}
