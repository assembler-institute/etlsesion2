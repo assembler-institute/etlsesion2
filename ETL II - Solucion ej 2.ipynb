{
 "cells": [
  {
   "cell_type": "code",
   "execution_count": 1,
   "id": "985795cd-dcd0-44b9-a20c-d5f5abc8c4db",
   "metadata": {},
   "outputs": [],
   "source": [
    "from urllib.request import Request, urlopen\n",
    "import urllib.request\n",
    "from bs4 import BeautifulSoup\n",
    "import os\n",
    "import pandas as pd\n",
    "\n",
    "import mysql.connector\n",
    "import os\n",
    "\n",
    "from datetime import date, datetime"
   ]
  },
  {
   "cell_type": "code",
   "execution_count": 2,
   "id": "4b2b5627-c102-49ca-bc09-21d8dd9dae97",
   "metadata": {},
   "outputs": [
    {
     "name": "stdout",
     "output_type": "stream",
     "text": [
      "Execution time:  12/05/2022 14:37:03\n"
     ]
    }
   ],
   "source": [
    "timestamp = datetime.now()\n",
    "print(\"Execution time: \", timestamp.strftime(\"%d/%m/%Y %H:%M:%S\"))"
   ]
  },
  {
   "cell_type": "code",
   "execution_count": 3,
   "id": "ab0caee8-dddf-4923-98b9-5bb78eb8d93d",
   "metadata": {},
   "outputs": [
    {
     "name": "stderr",
     "output_type": "stream",
     "text": [
      "/tmp/ipykernel_20198/2111673530.py:4: DeprecationWarning: AppURLopener style of invoking requests is deprecated. Use newer urlopen functions/methods\n",
      "  opener = AppURLopener()\n"
     ]
    }
   ],
   "source": [
    "class AppURLopener(urllib.request.FancyURLopener):\n",
    "    version = \"Mozilla/5.0\"\n",
    "\n",
    "opener = AppURLopener()"
   ]
  },
  {
   "cell_type": "code",
   "execution_count": 4,
   "id": "80e84a50-8752-4e6b-8fba-98c2278967e8",
   "metadata": {},
   "outputs": [],
   "source": [
    "def call_web(_source):\n",
    "    \n",
    "    req = Request(_source, headers={'User-Agent': 'Mozilla/5.0 (Windows NT 10.0; Win64; x64) AppleWebKit/537.36 (KHTML, like Gecko) Chrome/100.0.4896.127 Safari/537.36'})\n",
    "    return urlopen(req, timeout=10).read()\n",
    "\n",
    "def parse_url(_raw):\n",
    "    soupdata =BeautifulSoup(_raw, \"html.parser\")\n",
    "    \n",
    "    tables = soupdata.find_all(\"tr\")\n",
    "    \n",
    "    #tables = soupdata.find_all('div')\n",
    "    return tables"
   ]
  },
  {
   "cell_type": "code",
   "execution_count": 5,
   "id": "c0b7377d-d8d5-4b18-b11e-f5e13d90ccbd",
   "metadata": {},
   "outputs": [],
   "source": [
    "def get_data():\n",
    "    \n",
    "    raw_url = call_web('https://www.flightradar24.com/data/airlines')\n",
    "    parsed =  parse_url(raw_url)\n",
    "    \n",
    "    raw_elements = []\n",
    "    err_elements = []\n",
    "\n",
    "    for line in parsed:\n",
    "        row = line.find_all('td')\n",
    "        \n",
    "        raw_elements.append(row)\n",
    "        \n",
    "        "
   ]
  },
  {
   "cell_type": "code",
   "execution_count": 6,
   "id": "d76ae7d2-9945-422e-b38a-5c69dcf787ae",
   "metadata": {},
   "outputs": [],
   "source": [
    "def get_img(_html):\n",
    "    html = str(_html).split('\" ')\n",
    "    \n",
    "    img = False\n",
    "    result = 'placeholder'\n",
    "\n",
    "    for tg in html:\n",
    "    \n",
    "        if tg[:12] == 'data-bn-lazy':\n",
    "            result = tg[18:]\n",
    "            img = True\n",
    "        else:\n",
    "            mf = False\n",
    "    \n",
    "    return result\n"
   ]
  },
  {
   "cell_type": "code",
   "execution_count": 7,
   "id": "de9c2a77-86cc-4c2f-9efd-1fafb2f0bd9e",
   "metadata": {},
   "outputs": [],
   "source": [
    "raw_url = call_web('https://www.flightradar24.com/data/airlines')\n",
    "parsed =  parse_url(raw_url)"
   ]
  },
  {
   "cell_type": "code",
   "execution_count": 8,
   "id": "9935ca2a-8935-427d-900d-223e8dbe4565",
   "metadata": {},
   "outputs": [],
   "source": [
    "raw_elm = []\n",
    "\n",
    "for row in parsed:\n",
    "    fields = row.find_all('td')\n",
    "    if len(fields) == 6:\n",
    "        raw_elm.append(fields)\n",
    "    "
   ]
  },
  {
   "cell_type": "code",
   "execution_count": 9,
   "id": "14fdee2c-c3ea-45d1-bc51-1ea80c311a8b",
   "metadata": {},
   "outputs": [],
   "source": [
    "std_elm = []\n",
    "for airl in raw_elm:\n",
    "    \n",
    "    row = []\n",
    "    \n",
    "    row.append(get_img(airl[1]))\n",
    "    \n",
    "    for elm in airl[2:-1]:\n",
    "        \n",
    "        row.append(elm.get_text())\n",
    "    \n",
    "    std_elm.append(row)\n",
    "        \n",
    "    "
   ]
  },
  {
   "cell_type": "code",
   "execution_count": 10,
   "id": "6f373d7f-c864-4f15-bfae-b65865319605",
   "metadata": {},
   "outputs": [],
   "source": [
    "curated_elm = []\n",
    "\n",
    "for elm in std_elm:\n",
    "    \n",
    "    row = []\n",
    "    iata = None\n",
    "    oaci = None\n",
    "    row.append(elm[1])\n",
    "    \n",
    "    codes = elm[2].split('/')\n",
    "    for code in codes:\n",
    "        #print(code, len(list(code)))\n",
    "        if len(list(code)) == 3:\n",
    "            iata = code.strip()\n",
    "        else:\n",
    "            oaci = code.strip()\n",
    "    \n",
    "    row.append(iata)\n",
    "    row.append(oaci)\n",
    "    row.append(int(str(elm[3].split(' ')[0]).strip()))\n",
    "    row.append(elm[0])\n",
    "    row.append(timestamp)\n",
    "    \n",
    "    curated_elm.append(row)\n",
    "    "
   ]
  },
  {
   "cell_type": "code",
   "execution_count": 11,
   "id": "be0dcd47-7f2d-4384-83c6-f116b708d52b",
   "metadata": {},
   "outputs": [],
   "source": [
    "table = pd.DataFrame(curated_elm, columns=['name', 'iata', 'oaci', 'fleet_size', 'img_ext', 'timestamp'])\n",
    "table.to_csv('airlines_flightradar24.csv')"
   ]
  },
  {
   "cell_type": "code",
   "execution_count": 18,
   "id": "4c95f0cf-48b1-4187-9ead-b3202d90f319",
   "metadata": {},
   "outputs": [
    {
     "data": {
      "text/plain": [
       "'https://s3.eu-central-1.amazonaws.com/images.flightradar24.com/assets/airlines/logotypes/A3_AEE.png'"
      ]
     },
     "execution_count": 18,
     "metadata": {},
     "output_type": "execute_result"
    }
   ],
   "source": [
    "table.iloc[10]['img_ext']"
   ]
  }
 ],
 "metadata": {
  "kernelspec": {
   "display_name": "Python 3 (ipykernel)",
   "language": "python",
   "name": "python3"
  },
  "language_info": {
   "codemirror_mode": {
    "name": "ipython",
    "version": 3
   },
   "file_extension": ".py",
   "mimetype": "text/x-python",
   "name": "python",
   "nbconvert_exporter": "python",
   "pygments_lexer": "ipython3",
   "version": "3.9.7"
  }
 },
 "nbformat": 4,
 "nbformat_minor": 5
}
