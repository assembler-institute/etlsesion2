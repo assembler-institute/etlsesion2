{
 "cells": [
  {
   "cell_type": "markdown",
   "id": "675c5938-8a52-4471-9b2f-d0b93787ec96",
   "metadata": {},
   "source": [
    "# ETL II: Exercises\n",
    "\n",
    "## 1.- The airports data\n",
    "\n",
    "To solve this exercise you will have to obtain all the data of the airports using 2 APIs, in the first API you will obtain a random list with 50 airports, in the second api, you will obtain the data of the airports. \n",
    "\n",
    "The objective of this exercise is on the one hand to make a simple GET request authenticating in the app, and the second objective is to learn how to read the documentation of an api and apply it. \n",
    "\n",
    "**TIP**: Before executing the code in python, you can make the requests in POSTMAN to practice.\n",
    "\n",
    "### Part 1\n",
    "\n",
    "To make this calls you'll need to authenticate your calls\n",
    "\n",
    "Para realizar las llamadas tendrás que utilizar la cabecera `oanToken` y el token `ZF7xNEuLAZ5DKLQAEGVUq6VquGLQdsL7`. El endpoint a utilizar es `https://api.onairnet.xyz/assembler/etl/ej1`\n",
    "\n",
    "Whis this call you'll get a JSON object with an airports list inside, you'll have to make a search in the part 2 for each airport in the list. \n",
    "\n",
    "**Note**: You'll obtain the IATA code of the airports\n",
    "\n"
   ]
  },
  {
   "cell_type": "markdown",
   "id": "2a6b6930-2a58-4752-9e1a-9877f09bd749",
   "metadata": {},
   "source": [
    "### Part 2\n",
    "You'll need to create an account at `https://www.air-port-codes.com/` and obtain the api keys. Investigate the available endpoints with Postmant to see which one would fit the needs you have for this exercise. \n",
    "\n",
    "Create a dataframe conaining the following fields:\n",
    "\n",
    "- ID (IATA code)\n",
    "- Name\n",
    "- Latitude\n",
    "- Longitude\n",
    "- Country\n",
    "- City\n",
    "- Continent\n",
    "\n",
    "To learn how to use the api, check the docs in the webpage and try them with postman"
   ]
  },
  {
   "cell_type": "markdown",
   "id": "b4d696f4-4bdd-448e-a6bf-efc121701391",
   "metadata": {},
   "source": [
    "## 2.- The airlines data\n",
    "\n",
    "### Part 1\n",
    "\n",
    "Get the full list of airlines contained in `https://www.flightradar24.com/data/airlines`. Save that data in a dataframe that contains the following data:\n",
    "\n",
    "- Name\n",
    "- Codes\n",
    "- Fleet\n",
    "- Image URL\n",
    "\n",
    "**Notes:**\n",
    "\n",
    "### Part 1\n",
    "\n",
    "Extrae el listado completo de aerolíneas mostrado en: `https://www.flightradar24.com/data/airlines` y guárdalo en un dataframe que contenga los siguientes campos:\n",
    "\n",
    "- Nombre\n",
    "- Códigos\n",
    "- Flota\n",
    "- URL Imagen\n",
    "\n",
    "**Note**: You should not make any kind of transformation to the data, keep each data as it is in the request (For example, delete the word \"aircraft\" in the fleet field).\n",
    "\n",
    "### Part 2\n",
    "\n",
    "Download and save all the airlines logos in a folder"
   ]
  },
  {
   "cell_type": "markdown",
   "id": "eb842461-2d1f-4659-8227-7e62f90982fa",
   "metadata": {},
   "source": [
    "## 3.- Live flights\n",
    "\n",
    "For this exercise you will need to find the best way to do it and it requires research to complete.\n",
    "\n",
    "By accessing `https://www.flightradar24.com/multiview/49.05,10.82/7` you will be able to see a map with the flights that are currently active in Central Europe. \n",
    "\n",
    "The objective of this exercise is to extract all the data of all currently active flights, such as origin and destination, altitude and speed, airline, aircraft type, etc ... Store this data in a dataframe\n",
    "\n",
    "**Note**: You should not make any kind of transformation to the data, keep each data as it is in the request"
   ]
  },
  {
   "cell_type": "markdown",
   "id": "cea9414b-e96b-44b3-9352-2e5a27497644",
   "metadata": {},
   "source": [
    "## 4.- Airlines Routes\n",
    "\n",
    "For this exercise you must extract the different airline codes from a database and then using the Amadeus api, obtain all the routes operated by that airline, storing in a single dataframe all the routes.\n",
    "\n",
    "To complete the practice the dataframe must have this structure:\n",
    "- Code (IATA code)\n",
    "- Name (City name)\n",
    "- Airline (IATA code)\n",
    "\n",
    "**Notes**\n",
    "1.- To use amadeus you must create and register a developer account (free of charge). https://developers.amadeus.com/\n",
    "\n",
    "2.- The MySQL database connection data are as follows:\n",
    "   - Server: iosqlde.onairnet.xyz\n",
    "   - User: assemblerReader\n",
    "   - Password: !Reader2022\n",
    "   - Database: sqlCourse\n",
    "   - Table: rawFlights\n",
    "   \n",
    "3.- The table you will use for the exercise contains more information than necessary, you must obtain only the list of airline codes."
   ]
  },
  {
   "cell_type": "markdown",
   "id": "1392dd3f-2730-41e3-b778-7a13a998d821",
   "metadata": {},
   "source": [
    "# 5.- Twitter data\n",
    "\n",
    "The company \"Social Consulting Pro\" want's to develop an algorithim to detect what the people thinks about a brand giving to it some hashtags and usernames. \n",
    "\n",
    "You'll need to search the following info:\n",
    "\n",
    "- Usernames @iberia, @Fnac_ESP, @Renfe\n",
    "- Hashtags #AVE, #ClubFnac, #VolverAVolar, #Equipaje\n",
    "\n",
    "You'll also get tweets from people located in Spain, that tweet in Spanish.\n",
    "\n",
    "Call the api and create a DataFrame containing id, date, query and tweetContent\n",
    "\n",
    "**Notes**\n",
    "- You'll need to get the library tweepy\n",
    "- You'll need to create a twitter account if you don't have it\n",
    "- You'll need to create a twitter developer account\n",
    "- You'll need to apply for a Elevated Access account\n",
    "- Here's the first page of the twitter docs: https://developer.twitter.com/en/docs/twitter-api/data-dictionary/introduction (Read Under Api V2)\n"
   ]
  }
 ],
 "metadata": {
  "kernelspec": {
   "display_name": "Python 3 (ipykernel)",
   "language": "python",
   "name": "python3"
  },
  "language_info": {
   "codemirror_mode": {
    "name": "ipython",
    "version": 3
   },
   "file_extension": ".py",
   "mimetype": "text/x-python",
   "name": "python",
   "nbconvert_exporter": "python",
   "pygments_lexer": "ipython3",
   "version": "3.9.7"
  }
 },
 "nbformat": 4,
 "nbformat_minor": 5
}
